{
 "cells": [
  {
   "cell_type": "code",
   "execution_count": 1,
   "metadata": {},
   "outputs": [],
   "source": [
    "import requests\n",
    "import pandas as pd\n",
    "import numpy as np\n",
    "import matplotlib.pyplot as plt\n",
    "from time import sleep\n"
   ]
  },
  {
   "cell_type": "code",
   "execution_count": 24,
   "metadata": {},
   "outputs": [
    {
     "ename": "KeyError",
     "evalue": "'data'",
     "output_type": "error",
     "traceback": [
      "\u001b[1;31m---------------------------------------------------------------------------\u001b[0m",
      "\u001b[1;31mKeyError\u001b[0m                                  Traceback (most recent call last)",
      "\u001b[1;32m<ipython-input-24-86573b5c68db>\u001b[0m in \u001b[0;36m<module>\u001b[1;34m\u001b[0m\n\u001b[0;32m      8\u001b[0m     \u001b[1;31m#data_req=requests.get(baseurl+'manga?limit=100&contentRating=[safe][suggestive]?hasAvailableChapters=\"True\"')\u001b[0m\u001b[1;33m\u001b[0m\u001b[1;33m\u001b[0m\u001b[1;33m\u001b[0m\u001b[0m\n\u001b[0;32m      9\u001b[0m     \u001b[0mdata_req\u001b[0m\u001b[1;33m=\u001b[0m\u001b[0mrequests\u001b[0m\u001b[1;33m.\u001b[0m\u001b[0mget\u001b[0m\u001b[1;33m(\u001b[0m\u001b[0mbaseurl\u001b[0m\u001b[1;33m,\u001b[0m\u001b[0mparams\u001b[0m\u001b[1;33m=\u001b[0m\u001b[0mpayload\u001b[0m\u001b[1;33m)\u001b[0m\u001b[1;33m\u001b[0m\u001b[1;33m\u001b[0m\u001b[0m\n\u001b[1;32m---> 10\u001b[1;33m     \u001b[0mmanga_data\u001b[0m\u001b[1;33m=\u001b[0m\u001b[0mdata_req\u001b[0m\u001b[1;33m.\u001b[0m\u001b[0mjson\u001b[0m\u001b[1;33m(\u001b[0m\u001b[1;33m)\u001b[0m\u001b[1;33m[\u001b[0m\u001b[1;34m\"data\"\u001b[0m\u001b[1;33m]\u001b[0m\u001b[1;33m\u001b[0m\u001b[1;33m\u001b[0m\u001b[0m\n\u001b[0m\u001b[0;32m     11\u001b[0m     \u001b[0mloopnum\u001b[0m\u001b[1;33m=\u001b[0m\u001b[1;36m0\u001b[0m\u001b[1;33m\u001b[0m\u001b[1;33m\u001b[0m\u001b[0m\n\u001b[0;32m     12\u001b[0m     \u001b[1;32mfor\u001b[0m \u001b[0mmanga\u001b[0m \u001b[1;32min\u001b[0m \u001b[0mmanga_data\u001b[0m\u001b[1;33m:\u001b[0m\u001b[1;33m\u001b[0m\u001b[1;33m\u001b[0m\u001b[0m\n",
      "\u001b[1;31mKeyError\u001b[0m: 'data'"
     ]
    }
   ],
   "source": [
    "\n",
    "baseurl=\"https://api.mangadex.org/manga\"\n",
    "\n",
    "loopnum=0\n",
    "request_entries=100\n",
    "manga_list=[]\n",
    "while loopnum==0:#request_entries==100:\n",
    "    payload={'limit':100,'contentRating':[[\"safe\",\"suggestive\",\"erotica\"]],'hasAvailableChapters':\"1\",\"offset\":len(manga_list)}\n",
    "    #data_req=requests.get(baseurl+'manga?limit=100&contentRating=[safe][suggestive]?hasAvailableChapters=\"True\"')\n",
    "    data_req=requests.get(baseurl,params=payload)\n",
    "    manga_data=data_req.json()[\"data\"]\n",
    "    loopnum=0\n",
    "    for manga in manga_data:\n",
    "        entrydict={}\n",
    "        entrydict['id']=manga['id']\n",
    "        entrydict['type']=manga['type']\n",
    "        title_lang=list(manga['attributes']['title'].keys())[0]\n",
    "        entrydict['title']=manga['attributes']['title'][title_lang]\n",
    "        entrydict['orig_lang']=manga['attributes']['originalLanguage']\n",
    "        entrydict['target_demographic']=manga['attributes']['publicationDemographic']\n",
    "        entrydict['total_chapters']=manga['attributes']['lastChapter']\n",
    "        tags=[]\n",
    "        for tag in manga['attributes']['tags']:\n",
    "            tags.append(tag['id'])\n",
    "        entrydict['tags']=tags\n",
    "        manga_list.append(entrydict)\n",
    "    request_entries=len(manga_data)\n",
    "    loopnum=loopnum+1\n",
    "\n",
    "\n",
    "\n",
    "\n",
    "manga_df=pd.DataFrame(manga_list)\n",
    "\n",
    "\n",
    "\n",
    "        \n",
    "\n",
    "\n",
    "\n",
    "    #translatedtest\n",
    "    #print(f\"Error {data_req['errors'][0]['status']}: {data_req['errors'][0]['detail']}\")\n",
    "\n",
    "\n",
    "manga_df"
   ]
  },
  {
   "cell_type": "code",
   "execution_count": 25,
   "metadata": {},
   "outputs": [
    {
     "name": "stdout",
     "output_type": "stream",
     "text": [
      "Error 400: Error validating /contentRating: String value found, but an array is required\n"
     ]
    }
   ],
   "source": [
    "#manga_df.to_csv(\"./resources/manga_list.csv\")\n",
    "#loopnum\n",
    "print(f\"Error {data_req.json()['errors'][0]['status']}: {data_req.json()['errors'][0]['detail']}\")\n"
   ]
  },
  {
   "cell_type": "code",
   "execution_count": null,
   "metadata": {},
   "outputs": [
    {
     "data": {
      "text/plain": [
       "{'id': '0234a31e-a729-4e28-9d6a-3f87c4966b9e',\n",
       " 'type': 'tag',\n",
       " 'attributes': {'name': {'en': 'Oneshot'},\n",
       "  'description': [],\n",
       "  'group': 'format',\n",
       "  'version': 1},\n",
       " 'relationships': []}"
      ]
     },
     "execution_count": 4,
     "metadata": {},
     "output_type": "execute_result"
    }
   ],
   "source": [
    "#getting and organizing tag list\n",
    "baseurl=\"https://api.mangadex.org/\"\n",
    "taglist=requests.get(baseurl+\"manga/tag\")\n",
    "taglist=taglist.json()[\"data\"]\n",
    "\n",
    "taglist[0]\n",
    "data=[]\n",
    "\n",
    "for entry in taglist:\n",
    "    entrydict={}\n",
    "    entrydict['id']=entry['id']\n",
    "    entrydict['type']=entry['type']\n",
    "    entrydict['name']=entry['attributes']['name']['en']\n",
    "    entrydict['group']=entry['attributes']['group']\n",
    "    data.append(entrydict)\n",
    "\n",
    "avail_tags=pd.DataFrame(data)\n",
    "avail_tags.to_csv(\"./resources/tag_list.csv\")"
   ]
  },
  {
   "cell_type": "code",
   "execution_count": null,
   "metadata": {},
   "outputs": [],
   "source": []
  }
 ],
 "metadata": {
  "kernelspec": {
   "display_name": "Python 3.6.10 ('PythonData')",
   "language": "python",
   "name": "python3"
  },
  "language_info": {
   "codemirror_mode": {
    "name": "ipython",
    "version": 3
   },
   "file_extension": ".py",
   "mimetype": "text/x-python",
   "name": "python",
   "nbconvert_exporter": "python",
   "pygments_lexer": "ipython3",
   "version": "3.6.10"
  },
  "orig_nbformat": 4,
  "vscode": {
   "interpreter": {
    "hash": "59ad6ddb4007ef1eb2b4a4e2f594007070a6d2c5a6893c10319681547318a912"
   }
  }
 },
 "nbformat": 4,
 "nbformat_minor": 2
}
