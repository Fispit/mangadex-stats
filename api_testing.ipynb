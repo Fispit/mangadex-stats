{
 "cells": [
  {
   "cell_type": "code",
   "execution_count": 1,
   "metadata": {},
   "outputs": [],
   "source": [
    "import requests\n",
    "import pandas as pd\n",
    "import numpy as np\n",
    "import matplotlib.pyplot as plt\n",
    "\n"
   ]
  },
  {
   "cell_type": "code",
   "execution_count": 50,
   "metadata": {},
   "outputs": [
    {
     "name": "stdout",
     "output_type": "stream",
     "text": [
      "Error 400: You can't use a limit higher than 100.\n"
     ]
    }
   ],
   "source": [
    "\n",
    "baseurl=\"https://api.mangadex.org/\"\n",
    "test=requests.get(baseurl+\"manga?limit=90000\")\n",
    "translatedtest=test.json()\n",
    "manga_ids=[]\n",
    "try:\n",
    "    for manga in translatedtest[\"data\"]:\n",
    "        manga_ids.append(manga['id'])\n",
    "except:\n",
    "    #translatedtest\n",
    "    print(f\"Error {translatedtest['errors'][0]['status']}: {translatedtest['errors'][0]['detail']}\")"
   ]
  }
 ],
 "metadata": {
  "kernelspec": {
   "display_name": "Python 3.6.10 ('PythonData')",
   "language": "python",
   "name": "python3"
  },
  "language_info": {
   "codemirror_mode": {
    "name": "ipython",
    "version": 3
   },
   "file_extension": ".py",
   "mimetype": "text/x-python",
   "name": "python",
   "nbconvert_exporter": "python",
   "pygments_lexer": "ipython3",
   "version": "3.6.10"
  },
  "orig_nbformat": 4,
  "vscode": {
   "interpreter": {
    "hash": "59ad6ddb4007ef1eb2b4a4e2f594007070a6d2c5a6893c10319681547318a912"
   }
  }
 },
 "nbformat": 4,
 "nbformat_minor": 2
}
