{
 "cells": [
  {
   "cell_type": "code",
   "execution_count": 2,
   "metadata": {},
   "outputs": [],
   "source": [
    "import requests\n",
    "import pandas as pd\n",
    "import numpy as np\n",
    "import matplotlib.pyplot as plt\n",
    "from time import sleep\n"
   ]
  },
  {
   "cell_type": "code",
   "execution_count": 26,
   "metadata": {},
   "outputs": [],
   "source": [
    "\n",
    "baseurl=\"https://api.mangadex.org/\"\n",
    "data_req=requests.get(baseurl+\"manga?limit=100\")\n",
    "\n",
    "request_entries=100\n",
    "while request_entries==100:\n",
    "\n",
    "    manga_data=data_req.json()[\"data\"]\n",
    "    manga_list=[]\n",
    "    loopnum=0\n",
    "    for manga in manga_data:\n",
    "        entrydict={}\n",
    "        entrydict['id']=manga['id']\n",
    "        entrydict['type']=manga['type']\n",
    "        title_lang=list(manga['attributes']['title'].keys())[0]\n",
    "        entrydict['title']=manga['attributes']['title'][title_lang]\n",
    "        entrydict['orig_lang']=manga['attributes']['originalLanguage']\n",
    "        entrydict['target_demographic']=manga['attributes']['publicationDemographic']\n",
    "        entrydict['total_chapters']=manga['attributes']['lastChapter']\n",
    "        tags=[]\n",
    "        for tag in manga['attributes']['tags']:\n",
    "            tags.append(tag['id'])\n",
    "        entrydict['tags']=tags\n",
    "        manga_list.append(entrydict)\n",
    "        request_entries=len(manga_data)\n",
    "\n",
    "\n",
    "\n",
    "\n",
    "manga_df=pd.DataFrame(manga_list)\n",
    "\n",
    "\n",
    "\n",
    "        \n",
    "\n",
    "\n",
    "\n",
    "    #translatedtest\n",
    "    #print(f\"Error {data_req['errors'][0]['status']}: {data_req['errors'][0]['detail']}\")\n",
    "\n",
    "\n",
    "manga_df"
   ]
  },
  {
   "cell_type": "code",
   "execution_count": 17,
   "metadata": {},
   "outputs": [
    {
     "data": {
      "text/plain": [
       "{'id': '85ebf922-5d8b-4fee-9b49-581837f0b2af',\n",
       " 'type': 'manga',\n",
       " 'attributes': {'title': {'ja': 'Karami Zakari: Boku no Honto to Kimi no Uso'},\n",
       "  'altTitles': [{'ja': 'カラミざかり ボクのほんとと君の嘘'},\n",
       "   {'en': 'Entanglement: My Truth and your Lies'},\n",
       "   {'en': 'My Truth and your Lies'},\n",
       "   {'zh-hk': '錯綜複雜 我的真實與你的謊言'}],\n",
       "  'description': {'en': 'One day, four school friends, cross the line as they are interested to find out more about sex. Once you spark that flame though it is hard to go back and the bodies and minds of these four people begin to be intricately entwined. This is an adaptation of the \"Karami Zakari\" best-selling adult manga with over 1 million downloads which is reborn as a Seinen manga!'},\n",
       "  'isLocked': False,\n",
       "  'links': {'al': '127695',\n",
       "   'mu': '175927',\n",
       "   'amz': 'https://www.amazon.co.jp/%E3%82%AB%E3%83%A9%E3%83%9F%E3%81%96%E3%81%8B%E3%82%8A-%E3%83%9C%E3%82%AF%E3%81%AE%E3%81%BB%E3%82%93%E3%81%A8%E3%81%A8%E5%90%9B%E3%81%AE%E5%98%98%EF%BC%88%EF%BC%91%EF%BC%89-%E5%BE%A1%E6%B1%A0%E6%85%A7-ebook/dp/B08Y5KZRV2',\n",
       "   'mal': '136753',\n",
       "   'raw': 'https://yanmaga.jp/comics/%E3%82%AB%E3%83%A9%E3%83%9F%E3%81%96%E3%81%8B%E3%82%8A_%E3%83%9C%E3%82%AF%E3%81%AE%E3%81%BB%E3%82%93%E3%81%A8%E3%81%A8%E5%90%9B%E3%81%AE%E5%98%98'},\n",
       "  'originalLanguage': 'ja',\n",
       "  'lastVolume': '',\n",
       "  'lastChapter': '',\n",
       "  'publicationDemographic': 'seinen',\n",
       "  'status': 'ongoing',\n",
       "  'year': 2020,\n",
       "  'contentRating': 'erotica',\n",
       "  'tags': [{'id': '423e2eae-a7a2-4a8b-ac03-a8351462d71d',\n",
       "    'type': 'tag',\n",
       "    'attributes': {'name': {'en': 'Romance'},\n",
       "     'description': [],\n",
       "     'group': 'genre',\n",
       "     'version': 1},\n",
       "    'relationships': []},\n",
       "   {'id': '97893a4c-12af-4dac-b6be-0dffb353568e',\n",
       "    'type': 'tag',\n",
       "    'attributes': {'name': {'en': 'Sexual Violence'},\n",
       "     'description': [],\n",
       "     'group': 'content',\n",
       "     'version': 1},\n",
       "    'relationships': []},\n",
       "   {'id': 'b9af3a63-f058-46de-a9a0-e0c13906197a',\n",
       "    'type': 'tag',\n",
       "    'attributes': {'name': {'en': 'Drama'},\n",
       "     'description': [],\n",
       "     'group': 'genre',\n",
       "     'version': 1},\n",
       "    'relationships': []},\n",
       "   {'id': 'caaa44eb-cd40-4177-b930-79d3ef2afe87',\n",
       "    'type': 'tag',\n",
       "    'attributes': {'name': {'en': 'School Life'},\n",
       "     'description': [],\n",
       "     'group': 'theme',\n",
       "     'version': 1},\n",
       "    'relationships': []},\n",
       "   {'id': 'e5301a23-ebd9-49dd-a0cb-2add944c7fe9',\n",
       "    'type': 'tag',\n",
       "    'attributes': {'name': {'en': 'Slice of Life'},\n",
       "     'description': [],\n",
       "     'group': 'genre',\n",
       "     'version': 1},\n",
       "    'relationships': []}],\n",
       "  'state': 'published',\n",
       "  'chapterNumbersResetOnNewVolume': False,\n",
       "  'createdAt': '2021-10-13T16:14:54+00:00',\n",
       "  'updatedAt': '2022-08-03T16:38:33+00:00',\n",
       "  'version': 16,\n",
       "  'availableTranslatedLanguages': ['en', 'id', 'pt-br']},\n",
       " 'relationships': [{'id': '243c94d4-09d5-4f4d-bc2c-65535659f8eb',\n",
       "   'type': 'author'},\n",
       "  {'id': '022b4591-6bfb-4f57-b6fb-93fec7ea30c2', 'type': 'artist'},\n",
       "  {'id': '0b1217b2-66b6-405e-b3af-f51c4e4e5e14', 'type': 'cover_art'},\n",
       "  {'id': 'e28dd697-d2b5-4f4c-980e-a744326ace7a',\n",
       "   'type': 'manga',\n",
       "   'related': 'alternate_story'}]}"
      ]
     },
     "execution_count": 17,
     "metadata": {},
     "output_type": "execute_result"
    }
   ],
   "source": [
    "manga_df.to_csv(\"./resources/manga_list.csv\")"
   ]
  },
  {
   "cell_type": "code",
   "execution_count": 4,
   "metadata": {},
   "outputs": [
    {
     "data": {
      "text/plain": [
       "{'id': '0234a31e-a729-4e28-9d6a-3f87c4966b9e',\n",
       " 'type': 'tag',\n",
       " 'attributes': {'name': {'en': 'Oneshot'},\n",
       "  'description': [],\n",
       "  'group': 'format',\n",
       "  'version': 1},\n",
       " 'relationships': []}"
      ]
     },
     "execution_count": 4,
     "metadata": {},
     "output_type": "execute_result"
    }
   ],
   "source": [
    "#getting and organizing tag list\n",
    "baseurl=\"https://api.mangadex.org/\"\n",
    "taglist=requests.get(baseurl+\"manga/tag\")\n",
    "taglist=taglist.json()[\"data\"]\n",
    "\n",
    "taglist[0]\n",
    "data=[]\n",
    "\n",
    "for entry in taglist:\n",
    "    entrydict={}\n",
    "    entrydict['id']=entry['id']\n",
    "    entrydict['type']=entry['type']\n",
    "    entrydict['name']=entry['attributes']['name']['en']\n",
    "    entrydict['group']=entry['attributes']['group']\n",
    "    data.append(entrydict)\n",
    "\n",
    "avail_tags=pd.DataFrame(data)\n",
    "avail_tags.to_csv(\"./resources/tag_list.csv\")"
   ]
  },
  {
   "cell_type": "code",
   "execution_count": null,
   "metadata": {},
   "outputs": [],
   "source": []
  }
 ],
 "metadata": {
  "kernelspec": {
   "display_name": "Python 3.6.10 ('PythonData')",
   "language": "python",
   "name": "python3"
  },
  "language_info": {
   "codemirror_mode": {
    "name": "ipython",
    "version": 3
   },
   "file_extension": ".py",
   "mimetype": "text/x-python",
   "name": "python",
   "nbconvert_exporter": "python",
   "pygments_lexer": "ipython3",
   "version": "3.6.10"
  },
  "orig_nbformat": 4,
  "vscode": {
   "interpreter": {
    "hash": "59ad6ddb4007ef1eb2b4a4e2f594007070a6d2c5a6893c10319681547318a912"
   }
  }
 },
 "nbformat": 4,
 "nbformat_minor": 2
}
